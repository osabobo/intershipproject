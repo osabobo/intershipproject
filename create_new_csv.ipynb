{
 "cells": [
  {
   "cell_type": "code",
   "execution_count": 2,
   "metadata": {},
   "outputs": [
    {
     "data": {
      "text/plain": [
       "'formatted_customer_data.csv'"
      ]
     },
     "execution_count": 2,
     "metadata": {},
     "output_type": "execute_result"
    },
    {
     "ename": "",
     "evalue": "",
     "output_type": "error",
     "traceback": [
      "\u001b[1;31mThe Kernel crashed while executing code in the the current cell or a previous cell. Please review the code in the cell(s) to identify a possible cause of the failure. Click <a href='https://aka.ms/vscodeJupyterKernelCrash'>here</a> for more info. View Jupyter <a href='command:jupyter.viewOutput'>log</a> for further details."
     ]
    }
   ],
   "source": [
    "import pandas as pd\n",
    "\n",
    "# Read the uploaded CSV file\n",
    "amazon_data = pd.read_csv('amazon_data_ext.csv')\n",
    "\n",
    "# Extracting the last 5 customer-related data for each product\n",
    "num_customers = 5\n",
    "\n",
    "# Initialize a list to collect customer data\n",
    "all_customers_data = []\n",
    "\n",
    "for i in range(1, num_customers + 1):\n",
    "    customer_data = amazon_data[['Product_ID', 'product', 'category', 'price_dollars', 'star_ratings', 'total_ratings', f'Customer_{i}_ID', f'Customer_{i}_Star_Rating', f'Customer_{i}_Comment', f'Customer_{i}_buying_influence', f'Customer_{i}_Date']].copy()\n",
    "    \n",
    "    customer_data['Customer_i_Unique_ID'] = customer_data['Product_ID'] + '-' + customer_data[f'Customer_{i}_ID']\n",
    "    \n",
    "    # Rename columns to match the desired format\n",
    "    customer_data.columns = ['Product_ID', 'product', 'category', 'price_dollars', 'star_ratings', 'total_ratings', 'Customer_i_ID', 'Customer_i_Star_Rating', 'Customer_i_Comment', 'Customer_i_buying_influence', 'Customer_i_Date', 'Customer_i_Unique_ID']\n",
    "    \n",
    "    # Filter out rows where 'Customer_i_ID' is empty\n",
    "    customer_data = customer_data[customer_data['Customer_i_ID'].notna()]\n",
    "    \n",
    "    # Re-order columns to have 'Customer_i_Unique_ID' as the first column\n",
    "    columns_order = ['Customer_i_Unique_ID', 'Customer_i_ID', 'Customer_i_Star_Rating', 'Customer_i_Comment', 'Customer_i_buying_influence', 'Customer_i_Date','Product_ID', 'product', 'category', 'price_dollars', 'star_ratings', 'total_ratings']\n",
    "    customer_data = customer_data[columns_order]\n",
    "    \n",
    "    # Add to the list\n",
    "    all_customers_data.append(customer_data)\n",
    "\n",
    "# Concatenate all customer dataframes\n",
    "formatted_data_all = pd.concat(all_customers_data, ignore_index=True)\n",
    "\n",
    "# Save the formatted data to a new CSV file\n",
    "formatted_data_all.drop(columns=['Product_ID'], inplace=True)\n",
    "output_path = \"formatted_customer_data.csv\"\n",
    "formatted_data_all.to_csv(output_path, index=False)\n",
    "\n",
    "output_path\n"
   ]
  }
 ],
 "metadata": {
  "kernelspec": {
   "display_name": "Python 3",
   "language": "python",
   "name": "python3"
  },
  "language_info": {
   "codemirror_mode": {
    "name": "ipython",
    "version": 3
   },
   "file_extension": ".py",
   "mimetype": "text/x-python",
   "name": "python",
   "nbconvert_exporter": "python",
   "pygments_lexer": "ipython3",
   "version": "3.9.13"
  }
 },
 "nbformat": 4,
 "nbformat_minor": 2
}
